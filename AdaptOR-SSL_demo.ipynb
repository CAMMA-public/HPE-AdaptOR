{
 "cells": [
  {
   "cell_type": "markdown",
   "id": "9d9ca022-d875-4ea4-b5a5-18f0ef772ec2",
   "metadata": {},
   "source": [
    "# Imports"
   ]
  },
  {
   "cell_type": "code",
   "execution_count": null,
   "id": "20d93138-af86-423c-a5c0-b9387cfb6d12",
   "metadata": {},
   "outputs": [],
   "source": [
    "from logging import debug\n",
    "import torch\n",
    "import detectron2\n",
    "import cv2\n",
    "import os\n",
    "import glob\n",
    "from detectron2.engine import DefaultPredictor\n",
    "from detectron2.data import detection_utils as utils\n",
    "from detectron2.data import transforms as T\n",
    "from PIL import Image\n",
    "import gradio as gr\n",
    "from base64 import b64encode\n",
    "from IPython.display import HTML, display\n",
    "from adaptor.config import get_cfg\n",
    "from adaptor.vis import vis_2d_anns, fixed_bright_colors, progress_bar, images_to_video"
   ]
  },
  {
   "cell_type": "markdown",
   "id": "ec7fa77f-62ec-44c0-a2c9-71725712dc17",
   "metadata": {},
   "source": [
    "# Define Paths"
   ]
  },
  {
   "cell_type": "code",
   "execution_count": null,
   "id": "c2d5f565-f5cf-471f-a569-bbe737336a5b",
   "metadata": {},
   "outputs": [],
   "source": [
    "BBOX_THRESHOLD, KPT_THRESHOLD, MASK_THRESHOLD = 0.7, 0.1, 0.5\n",
    "IMG_RESIZE_SHAPE = 640\n",
    "DO_RESIZE = True\n",
    "IMG_FORMAT = \"RGB\"\n",
    "CFG_FILE = \"./configs/base/Base_kmrcnn_R_50_FPN_3x_gn_amp_4gpus.yaml\"\n",
    "predictors = {}\n",
    "VIDEO_DIR= \"./utils_data/vid_clip\"\n",
    "OUTPUT_DIR = \"output\"\n",
    "OUTPUT_VID_NAME = os.path.join(OUTPUT_DIR, \"output.mp4\")\n",
    "MODEL_WEIGHTS = {\n",
    "    \"1%\": \"./models/kmrcnn_R_50_FPN_3x_gn_amp_sup1.pth\",\n",
    "    \"2%\": \"./models/kmrcnn_R_50_FPN_3x_gn_amp_sup2.pth\",\n",
    "    \"5%\": \"./models/kmrcnn_R_50_FPN_3x_gn_amp_sup5.pth\",\n",
    "    \"10%\": \"./models/kmrcnn_R_50_FPN_3x_gn_amp_sup10.pth\",\n",
    "    \"100%\": \"./models/kmrcnn_R_50_FPN_3x_gn_amp_sup100.pth\",\n",
    "}\n",
    "SSL_MODEL_TYPE = \"1%\"\n",
    "title = \"AdaptOR-SSL Image Demo\"\n",
    "description = \"Image demo for AdaptOR-SSL. To use it, simply upload your image, or click one of the examples to load them. Read more at the links below.\"\n",
    "article = \"<p style='text-align: center'><a href='https://arxiv.org/abs/'></a> | <a href='https://github.com/CAMMA-public/AdaptOR'>Github Repo</a></p>\""
   ]
  },
  {
   "cell_type": "markdown",
   "id": "17b0c94c-7742-44b3-b5bf-34bb00cbadf4",
   "metadata": {},
   "source": [
    "# Create predictors"
   ]
  },
  {
   "cell_type": "code",
   "execution_count": null,
   "id": "8dd29b6f-2ad9-47ee-b418-b7e37b218a6a",
   "metadata": {},
   "outputs": [],
   "source": [
    "for MODEL_TYPE, WEIGHT in MODEL_WEIGHTS.items():\n",
    "    cfg = get_cfg()\n",
    "    cfg.merge_from_file(CFG_FILE)\n",
    "    cfg.MODEL.ROI_HEADS.SCORE_THRESH_TEST = BBOX_THRESHOLD\n",
    "    cfg.MODEL.WEIGHTS = WEIGHT\n",
    "    predictors[MODEL_TYPE] = DefaultPredictor(cfg)\n",
    "colors = fixed_bright_colors()"
   ]
  },
  {
   "cell_type": "markdown",
   "id": "7ebe51fa-a292-4b2e-a23e-4e3ab5f8644f",
   "metadata": {},
   "source": [
    "# Inference Function"
   ]
  },
  {
   "cell_type": "code",
   "execution_count": null,
   "id": "d7f3f174-304a-4ea7-90f1-ba5573392003",
   "metadata": {},
   "outputs": [],
   "source": [
    "def adaptor_ssl_image(img, ssl_model_type, return_pil=True, file_path=False):\n",
    "    assert ssl_model_type in [\"1%\", \"2%\", \"5%\", \"10%\", \"100%\"]\n",
    "    predictor = predictors[ssl_model_type]\n",
    "\n",
    "    det_anns = []\n",
    "    if file_path:\n",
    "        img = utils.read_image(img, format=IMG_FORMAT)\n",
    "    else:\n",
    "        img = utils.read_image(img.name, format=IMG_FORMAT)\n",
    "    if DO_RESIZE:\n",
    "        img, _ = T.apply_transform_gens(\n",
    "            [T.ResizeShortestEdge(short_edge_length=IMG_RESIZE_SHAPE)], img\n",
    "        )\n",
    "    outputs = predictor(img)\n",
    "    pred_boxes = outputs[\"instances\"].pred_boxes.tensor.cpu().numpy()\n",
    "    pred_keypoints = outputs[\"instances\"].pred_keypoints.cpu()\n",
    "    pred_masks = (\n",
    "        (outputs[\"instances\"].pred_masks >= MASK_THRESHOLD)\n",
    "        .to(dtype=torch.bool)\n",
    "        .cpu()\n",
    "        .numpy()\n",
    "    )\n",
    "    vis = (pred_keypoints[..., -1] > KPT_THRESHOLD)[..., None].repeat(1, 1, 3)\n",
    "    pred_keypoints = torch.where(vis, pred_keypoints, torch.zeros_like(pred_keypoints))\n",
    "    h, w = outputs[\"instances\"].image_size\n",
    "    for box, kpt, mask in zip(pred_boxes, pred_keypoints, pred_masks):\n",
    "        det_anns.append(\n",
    "            {\n",
    "                \"keypoints\": kpt.numpy(),\n",
    "                \"bbox\": [box[0], box[1], box[2] - box[0], box[3] - box[1]],\n",
    "                \"mask\": mask,\n",
    "            }\n",
    "        )\n",
    "    det_anns = sorted(det_anns, key=lambda k: k[\"bbox\"][0])\n",
    "    img = vis_2d_anns(img, det_anns, w, h, colors=colors)\n",
    "    image_pil = Image.fromarray(img)\n",
    "    if return_pil:\n",
    "        return Image.fromarray(img)\n",
    "    else:\n",
    "        return img"
   ]
  },
  {
   "cell_type": "markdown",
   "id": "232e93a7-9fb3-47cb-833b-ba7fc8507e9a",
   "metadata": {},
   "source": [
    "# Video Demo"
   ]
  },
  {
   "cell_type": "code",
   "execution_count": null,
   "id": "5bd04933-07fc-4cb0-a883-ccdf6dfe5a27",
   "metadata": {},
   "outputs": [],
   "source": [
    "files = sorted(glob.glob(VIDEO_DIR+\"/*.jpg\"))\n",
    "# perform inference on video\n",
    "print(\"inference on video started\")\n",
    "# Initialize the progress-bar\n",
    "bar = display(progress_bar(1, len(files)), display_id=True)\n",
    "for index, (img_path) in enumerate(files):\n",
    "    out_img = adaptor_ssl_image(img_path, SSL_MODEL_TYPE, return_pil=False, file_path=True)\n",
    "    cv2.imwrite(os.path.join(OUTPUT_DIR, f\"{index:06d}\" + \".png\"), out_img)\n",
    "    bar.update(progress_bar(index + 1, len(files)))\n",
    "print(\"inference on video finished\")\n",
    "images_to_video(OUTPUT_DIR, OUTPUT_VID_NAME)  "
   ]
  },
  {
   "cell_type": "markdown",
   "id": "9e98e58f-b509-4b53-ae34-e126239f2c97",
   "metadata": {},
   "source": [
    "# Show the output video"
   ]
  },
  {
   "cell_type": "code",
   "execution_count": null,
   "id": "2cd82d88-27bd-4fd6-8d76-2828424a2d37",
   "metadata": {},
   "outputs": [],
   "source": [
    "mp4 = open(OUTPUT_VID_NAME, \"rb\").read()\n",
    "data_url = \"data:video/mp4;base64,\" + b64encode(mp4).decode()\n",
    "HTML(\"\"\" <video width=400 controls>\n",
    "         <source src=\"%s\" type=\"video/mp4\">\n",
    "         </video> \n",
    "     \"\"\" % data_url\n",
    "    )"
   ]
  },
  {
   "cell_type": "markdown",
   "id": "c7fca0ed-e562-4e77-abe2-b2147347cbb6",
   "metadata": {},
   "source": [
    "# Image Demo"
   ]
  },
  {
   "cell_type": "code",
   "execution_count": null,
   "id": "0c6722f6-71af-437c-956c-4882909b4c50",
   "metadata": {},
   "outputs": [],
   "source": [
    "gr.Interface(\n",
    "    adaptor_ssl_image,\n",
    "    [\n",
    "        gr.inputs.Image(type=\"file\", label=\"Input Image\"),\n",
    "        gr.inputs.Radio(\n",
    "            [\"1%\", \"2%\", \"5%\", \"10%\", \"100%\"], label=\"SSL Model with supervision\"\n",
    "        ),\n",
    "    ],\n",
    "    gr.outputs.Image(type=\"pil\", label=\"Output\"),\n",
    "    title=title,\n",
    "    description=description,\n",
    "    article=article,\n",
    "    examples=[\n",
    "        [\"utils_data/coco_val2017_000000410456.jpg\", \"1%\"],\n",
    "        [\"utils_data/coco_val2017_000000410456.jpg\", \"2%\"],\n",
    "        [\"utils_data/coco_val2017_000000410456.jpg\", \"5%\"],\n",
    "        [\"utils_data/coco_val2017_000000410456.jpg\", \"10%\"],\n",
    "        [\"utils_data/coco_val2017_000000410456.jpg\", \"100%\"],\n",
    "    ],\n",
    "    server_name=\"0.0.0.0\",\n",
    ").launch(debug=True)"
   ]
  }
 ],
 "metadata": {
  "kernelspec": {
   "display_name": "Python 3",
   "language": "python",
   "name": "python3"
  },
  "language_info": {
   "codemirror_mode": {
    "name": "ipython",
    "version": 3
   },
   "file_extension": ".py",
   "mimetype": "text/x-python",
   "name": "python",
   "nbconvert_exporter": "python",
   "pygments_lexer": "ipython3",
   "version": "3.8.3"
  }
 },
 "nbformat": 4,
 "nbformat_minor": 5
}
